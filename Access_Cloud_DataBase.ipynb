{
  "nbformat": 4,
  "nbformat_minor": 0,
  "metadata": {
    "colab": {
      "provenance": []
    },
    "kernelspec": {
      "name": "python3",
      "display_name": "Python 3"
    },
    "language_info": {
      "name": "python"
    }
  },
  "cells": [
    {
      "cell_type": "code",
      "execution_count": 1,
      "metadata": {
        "id": "X1G1MLV2qaTT"
      },
      "outputs": [],
      "source": [
        "#Accessing IBM Cloud DataBase using python"
      ]
    },
    {
      "cell_type": "code",
      "source": [
        "!pip install ibm_db"
      ],
      "metadata": {
        "colab": {
          "base_uri": "https://localhost:8080/"
        },
        "id": "_77F91AaqjGi",
        "outputId": "452d5af7-03ab-40fe-a447-a5a8593b36aa"
      },
      "execution_count": 2,
      "outputs": [
        {
          "output_type": "stream",
          "name": "stdout",
          "text": [
            "Looking in indexes: https://pypi.org/simple, https://us-python.pkg.dev/colab-wheels/public/simple/\n",
            "Collecting ibm_db\n",
            "  Downloading ibm_db-3.1.4.tar.gz (1.4 MB)\n",
            "\u001b[2K     \u001b[90m━━━━━━━━━━━━━━━━━━━━━━━━━━━━━━━━━━━━━━━━\u001b[0m \u001b[32m1.4/1.4 MB\u001b[0m \u001b[31m16.8 MB/s\u001b[0m eta \u001b[36m0:00:00\u001b[0m\n",
            "\u001b[?25h  Installing build dependencies ... \u001b[?25l\u001b[?25hdone\n",
            "  Getting requirements to build wheel ... \u001b[?25l\u001b[?25hdone\n",
            "  Installing backend dependencies ... \u001b[?25l\u001b[?25hdone\n",
            "  Preparing metadata (pyproject.toml) ... \u001b[?25l\u001b[?25hdone\n",
            "Building wheels for collected packages: ibm_db\n",
            "  Building wheel for ibm_db (pyproject.toml) ... \u001b[?25l\u001b[?25hdone\n",
            "  Created wheel for ibm_db: filename=ibm_db-3.1.4-cp38-cp38-linux_x86_64.whl size=41478382 sha256=ffeb815254a744e05d82c888079f4d87ed54e4496cc2a8b0da395e0861f7e1ed\n",
            "  Stored in directory: /root/.cache/pip/wheels/29/8a/54/6483abefac5e30f2897d05de40bfd83a31b23f2c02182edb6c\n",
            "Successfully built ibm_db\n",
            "Installing collected packages: ibm_db\n",
            "Successfully installed ibm_db-3.1.4\n"
          ]
        }
      ]
    },
    {
      "cell_type": "code",
      "source": [
        "import ibm_db\n",
        "import pandas as pd\n",
        "import ibm_db_dbi"
      ],
      "metadata": {
        "id": "AD_HCHlnqlRm"
      },
      "execution_count": 19,
      "outputs": []
    },
    {
      "cell_type": "code",
      "source": [
        "dsn_driver = \"{IBM DB2 ODBC DRIVER}\"\n",
        "dsn_database = \"Enter_Your_DataBase\"\n",
        "dsn_hostname = \"Enter_Your_Host_Name\"\n",
        "dsn_port = \"Enter_Port_Number\"               \n",
        "dsn_protocol = \"TCPIP\"          \n",
        "dsn_uid = \"Enter_Your_UID\"              \n",
        "dsn_pwd = \"Enter_Your_Pass\"                 \n",
        "dsn_security = \"SSL\"   "
      ],
      "metadata": {
        "id": "T61-0gweqojJ"
      },
      "execution_count": 4,
      "outputs": []
    },
    {
      "cell_type": "code",
      "source": [
        "dsn = (\n",
        "    \"DRIVER={0};\"\n",
        "    \"DATABASE={1};\"\n",
        "    \"HOSTNAME={2};\"\n",
        "    \"PORT={3};\"\n",
        "    \"PROTOCOL={4};\"\n",
        "    \"UID={5};\"\n",
        "    \"PWD={6};\"\n",
        "    \"SECURITY={7};\").format(dsn_driver, dsn_database, dsn_hostname, dsn_port, dsn_protocol, dsn_uid, dsn_pwd,dsn_security)\n",
        "\n",
        "try:\n",
        "    conn = ibm_db.connect(dsn, \"\", \"\")\n",
        "    print (\"Connected to database: \", dsn_database, \"as user: \", dsn_uid, \"on host: \", dsn_hostname)\n",
        "\n",
        "except:\n",
        "    print (\"Unable to connect: \", ibm_db.conn_errormsg() )"
      ],
      "metadata": {
        "colab": {
          "base_uri": "https://localhost:8080/"
        },
        "id": "_L4kmbMLrAg_",
        "outputId": "a4281817-c21e-4aa1-f0f9-78bdd7697934"
      },
      "execution_count": 5,
      "outputs": [
        {
          "output_type": "stream",
          "name": "stdout",
          "text": [
            "Connected to database:  bludb as user:  qzm36043 on host:  2d46b6b4-cbf6-40eb-bbce-6251e6ba0300.bs2io90l08kqb1od8lcg.databases.appdomain.cloud\n"
          ]
        }
      ]
    },
    {
      "cell_type": "code",
      "source": [
        "createQuery = \"create table Student(ID INTEGER PRIMARY KEY NOT NULL, FNAME VARCHAR(20), LNAME VARCHAR(20), CITY VARCHAR(20), Phone INTEGER)\"\n",
        "\n",
        "createStmt = ibm_db.exec_immediate(conn,createQuery)"
      ],
      "metadata": {
        "id": "rUtc0U-Hr2oA"
      },
      "execution_count": 9,
      "outputs": []
    },
    {
      "cell_type": "code",
      "source": [
        "insertQuery = \"insert into Student values (1, 'Krunal', 'Patel', 'Surat', 29634)\"\n",
        "\n",
        "insertStmt = ibm_db.exec_immediate(conn, insertQuery)"
      ],
      "metadata": {
        "id": "kSHtX0PysLWQ"
      },
      "execution_count": 11,
      "outputs": []
    },
    {
      "cell_type": "code",
      "source": [
        "insertQuery1 = \"insert into Student(ID, FNAME, LNAME, CITY, Phone) values (2, 'Ravi', 'Kundanani', 'Surat', 12345), (3, 'Riddhesh', 'Kumar', 'surat', 12367), (4, 'neel', 'lad', 'vapi', 09786), (5, 'sunny', 'kumar', 'surat', 43246), (6, 'nakul', 'kumar', 'surat', 54484), (7, 'ravan', 'parakh', 'bharuch', 55555), (8, 'sita', 'patel', 'patan', 88888), (9, 'urja', 'rajput', 'patan', 99999), (10, 'parthvi', 'bachani', 'surat', 77777), (11, 'vedant', 'patel', 'patan', 11111), (12, 'rahul', 'sharma', 'patna', 44444)\"\n",
        "\n",
        "insertStmt1 = ibm_db.exec_immediate(conn, insertQuery1)"
      ],
      "metadata": {
        "id": "reJ2oU7KtRqV"
      },
      "execution_count": 12,
      "outputs": []
    },
    {
      "cell_type": "code",
      "source": [
        "updateQuery = \"update Student SET FNAME = 'ram' WHERE ID = 7\"\n",
        "\n",
        "insertStmt2 = ibm_db.exec_immediate(conn, updateQuery)"
      ],
      "metadata": {
        "id": "QF7rYQaKwIo4"
      },
      "execution_count": 13,
      "outputs": []
    },
    {
      "cell_type": "code",
      "source": [
        "#connection for pandas\n",
        "pconn = ibm_db_dbi.Connection(conn)"
      ],
      "metadata": {
        "id": "lEcMshYnxKx-"
      },
      "execution_count": 20,
      "outputs": []
    },
    {
      "cell_type": "code",
      "source": [
        "query = \"SELECT * FROM Student\"\n",
        "pdf = pd.read_sql(query, pconn)"
      ],
      "metadata": {
        "id": "TdQ9eJiqx6HV"
      },
      "execution_count": 22,
      "outputs": []
    },
    {
      "cell_type": "code",
      "source": [
        "pdf"
      ],
      "metadata": {
        "colab": {
          "base_uri": "https://localhost:8080/",
          "height": 426
        },
        "id": "GIz95VjOyZ8R",
        "outputId": "6e623cb9-e813-4dce-ee72-1acc9fa42956"
      },
      "execution_count": 23,
      "outputs": [
        {
          "output_type": "execute_result",
          "data": {
            "text/plain": [
              "    ID     FNAME      LNAME     CITY  PHONE\n",
              "0    1    Krunal      Patel    Surat  29634\n",
              "1    2      Ravi  Kundanani    Surat  12345\n",
              "2    3  Riddhesh      Kumar    surat  12367\n",
              "3    4      neel        lad     vapi   9786\n",
              "4    5     sunny      kumar    surat  43246\n",
              "5    6     nakul      kumar    surat  54484\n",
              "6    7       ram     parakh  bharuch  55555\n",
              "7    8      sita      patel    patan  88888\n",
              "8    9      urja     rajput    patan  99999\n",
              "9   10   parthvi    bachani    surat  77777\n",
              "10  11    vedant      patel    patan  11111\n",
              "11  12     rahul     sharma    patna  44444"
            ],
            "text/html": [
              "\n",
              "  <div id=\"df-3a00d5d8-7af2-4513-8264-0a4badb2c697\">\n",
              "    <div class=\"colab-df-container\">\n",
              "      <div>\n",
              "<style scoped>\n",
              "    .dataframe tbody tr th:only-of-type {\n",
              "        vertical-align: middle;\n",
              "    }\n",
              "\n",
              "    .dataframe tbody tr th {\n",
              "        vertical-align: top;\n",
              "    }\n",
              "\n",
              "    .dataframe thead th {\n",
              "        text-align: right;\n",
              "    }\n",
              "</style>\n",
              "<table border=\"1\" class=\"dataframe\">\n",
              "  <thead>\n",
              "    <tr style=\"text-align: right;\">\n",
              "      <th></th>\n",
              "      <th>ID</th>\n",
              "      <th>FNAME</th>\n",
              "      <th>LNAME</th>\n",
              "      <th>CITY</th>\n",
              "      <th>PHONE</th>\n",
              "    </tr>\n",
              "  </thead>\n",
              "  <tbody>\n",
              "    <tr>\n",
              "      <th>0</th>\n",
              "      <td>1</td>\n",
              "      <td>Krunal</td>\n",
              "      <td>Patel</td>\n",
              "      <td>Surat</td>\n",
              "      <td>29634</td>\n",
              "    </tr>\n",
              "    <tr>\n",
              "      <th>1</th>\n",
              "      <td>2</td>\n",
              "      <td>Ravi</td>\n",
              "      <td>Kundanani</td>\n",
              "      <td>Surat</td>\n",
              "      <td>12345</td>\n",
              "    </tr>\n",
              "    <tr>\n",
              "      <th>2</th>\n",
              "      <td>3</td>\n",
              "      <td>Riddhesh</td>\n",
              "      <td>Kumar</td>\n",
              "      <td>surat</td>\n",
              "      <td>12367</td>\n",
              "    </tr>\n",
              "    <tr>\n",
              "      <th>3</th>\n",
              "      <td>4</td>\n",
              "      <td>neel</td>\n",
              "      <td>lad</td>\n",
              "      <td>vapi</td>\n",
              "      <td>9786</td>\n",
              "    </tr>\n",
              "    <tr>\n",
              "      <th>4</th>\n",
              "      <td>5</td>\n",
              "      <td>sunny</td>\n",
              "      <td>kumar</td>\n",
              "      <td>surat</td>\n",
              "      <td>43246</td>\n",
              "    </tr>\n",
              "    <tr>\n",
              "      <th>5</th>\n",
              "      <td>6</td>\n",
              "      <td>nakul</td>\n",
              "      <td>kumar</td>\n",
              "      <td>surat</td>\n",
              "      <td>54484</td>\n",
              "    </tr>\n",
              "    <tr>\n",
              "      <th>6</th>\n",
              "      <td>7</td>\n",
              "      <td>ram</td>\n",
              "      <td>parakh</td>\n",
              "      <td>bharuch</td>\n",
              "      <td>55555</td>\n",
              "    </tr>\n",
              "    <tr>\n",
              "      <th>7</th>\n",
              "      <td>8</td>\n",
              "      <td>sita</td>\n",
              "      <td>patel</td>\n",
              "      <td>patan</td>\n",
              "      <td>88888</td>\n",
              "    </tr>\n",
              "    <tr>\n",
              "      <th>8</th>\n",
              "      <td>9</td>\n",
              "      <td>urja</td>\n",
              "      <td>rajput</td>\n",
              "      <td>patan</td>\n",
              "      <td>99999</td>\n",
              "    </tr>\n",
              "    <tr>\n",
              "      <th>9</th>\n",
              "      <td>10</td>\n",
              "      <td>parthvi</td>\n",
              "      <td>bachani</td>\n",
              "      <td>surat</td>\n",
              "      <td>77777</td>\n",
              "    </tr>\n",
              "    <tr>\n",
              "      <th>10</th>\n",
              "      <td>11</td>\n",
              "      <td>vedant</td>\n",
              "      <td>patel</td>\n",
              "      <td>patan</td>\n",
              "      <td>11111</td>\n",
              "    </tr>\n",
              "    <tr>\n",
              "      <th>11</th>\n",
              "      <td>12</td>\n",
              "      <td>rahul</td>\n",
              "      <td>sharma</td>\n",
              "      <td>patna</td>\n",
              "      <td>44444</td>\n",
              "    </tr>\n",
              "  </tbody>\n",
              "</table>\n",
              "</div>\n",
              "      <button class=\"colab-df-convert\" onclick=\"convertToInteractive('df-3a00d5d8-7af2-4513-8264-0a4badb2c697')\"\n",
              "              title=\"Convert this dataframe to an interactive table.\"\n",
              "              style=\"display:none;\">\n",
              "        \n",
              "  <svg xmlns=\"http://www.w3.org/2000/svg\" height=\"24px\"viewBox=\"0 0 24 24\"\n",
              "       width=\"24px\">\n",
              "    <path d=\"M0 0h24v24H0V0z\" fill=\"none\"/>\n",
              "    <path d=\"M18.56 5.44l.94 2.06.94-2.06 2.06-.94-2.06-.94-.94-2.06-.94 2.06-2.06.94zm-11 1L8.5 8.5l.94-2.06 2.06-.94-2.06-.94L8.5 2.5l-.94 2.06-2.06.94zm10 10l.94 2.06.94-2.06 2.06-.94-2.06-.94-.94-2.06-.94 2.06-2.06.94z\"/><path d=\"M17.41 7.96l-1.37-1.37c-.4-.4-.92-.59-1.43-.59-.52 0-1.04.2-1.43.59L10.3 9.45l-7.72 7.72c-.78.78-.78 2.05 0 2.83L4 21.41c.39.39.9.59 1.41.59.51 0 1.02-.2 1.41-.59l7.78-7.78 2.81-2.81c.8-.78.8-2.07 0-2.86zM5.41 20L4 18.59l7.72-7.72 1.47 1.35L5.41 20z\"/>\n",
              "  </svg>\n",
              "      </button>\n",
              "      \n",
              "  <style>\n",
              "    .colab-df-container {\n",
              "      display:flex;\n",
              "      flex-wrap:wrap;\n",
              "      gap: 12px;\n",
              "    }\n",
              "\n",
              "    .colab-df-convert {\n",
              "      background-color: #E8F0FE;\n",
              "      border: none;\n",
              "      border-radius: 50%;\n",
              "      cursor: pointer;\n",
              "      display: none;\n",
              "      fill: #1967D2;\n",
              "      height: 32px;\n",
              "      padding: 0 0 0 0;\n",
              "      width: 32px;\n",
              "    }\n",
              "\n",
              "    .colab-df-convert:hover {\n",
              "      background-color: #E2EBFA;\n",
              "      box-shadow: 0px 1px 2px rgba(60, 64, 67, 0.3), 0px 1px 3px 1px rgba(60, 64, 67, 0.15);\n",
              "      fill: #174EA6;\n",
              "    }\n",
              "\n",
              "    [theme=dark] .colab-df-convert {\n",
              "      background-color: #3B4455;\n",
              "      fill: #D2E3FC;\n",
              "    }\n",
              "\n",
              "    [theme=dark] .colab-df-convert:hover {\n",
              "      background-color: #434B5C;\n",
              "      box-shadow: 0px 1px 3px 1px rgba(0, 0, 0, 0.15);\n",
              "      filter: drop-shadow(0px 1px 2px rgba(0, 0, 0, 0.3));\n",
              "      fill: #FFFFFF;\n",
              "    }\n",
              "  </style>\n",
              "\n",
              "      <script>\n",
              "        const buttonEl =\n",
              "          document.querySelector('#df-3a00d5d8-7af2-4513-8264-0a4badb2c697 button.colab-df-convert');\n",
              "        buttonEl.style.display =\n",
              "          google.colab.kernel.accessAllowed ? 'block' : 'none';\n",
              "\n",
              "        async function convertToInteractive(key) {\n",
              "          const element = document.querySelector('#df-3a00d5d8-7af2-4513-8264-0a4badb2c697');\n",
              "          const dataTable =\n",
              "            await google.colab.kernel.invokeFunction('convertToInteractive',\n",
              "                                                     [key], {});\n",
              "          if (!dataTable) return;\n",
              "\n",
              "          const docLinkHtml = 'Like what you see? Visit the ' +\n",
              "            '<a target=\"_blank\" href=https://colab.research.google.com/notebooks/data_table.ipynb>data table notebook</a>'\n",
              "            + ' to learn more about interactive tables.';\n",
              "          element.innerHTML = '';\n",
              "          dataTable['output_type'] = 'display_data';\n",
              "          await google.colab.output.renderOutput(dataTable, element);\n",
              "          const docLink = document.createElement('div');\n",
              "          docLink.innerHTML = docLinkHtml;\n",
              "          element.appendChild(docLink);\n",
              "        }\n",
              "      </script>\n",
              "    </div>\n",
              "  </div>\n",
              "  "
            ]
          },
          "metadata": {},
          "execution_count": 23
        }
      ]
    }
  ]
}